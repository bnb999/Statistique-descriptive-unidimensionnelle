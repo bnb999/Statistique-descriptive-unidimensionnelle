{
  "cells": [
    {
      "cell_type": "markdown",
      "metadata": {
        "collapsed": false,
        "id": "ZO87R30d5I60"
      },
      "source": [
        "## Initialisation de la variable\n",
        "\n"
      ]
    },
    {
      "cell_type": "code",
      "execution_count": 4,
      "metadata": {
        "id": "2D-_a1Xk5I6-"
      },
      "outputs": [],
      "source": [
        "vector_age <- c (43,29,57,45,50,29,37,59,46,31,46,24,33,38,49,31,62,60,52,38,38,26,41,52,60,49,52,41,38,26,37,59,57,41,29,33,33,43,46,57,46,33,46,49,57,57,46,43)"
      ]
    },
    {
      "cell_type": "code",
      "execution_count": 6,
      "metadata": {
        "colab": {
          "base_uri": "https://localhost:8080/",
          "height": 69
        },
        "id": "DBUwq9vF5I7C",
        "outputId": "d9e326c0-3b5e-4222-c6f5-c62c83c5490c"
      },
      "outputs": [
        {
          "output_type": "display_data",
          "data": {
            "text/plain": [
              "vector_age\n",
              "24 26 29 31 33 37 38 41 43 45 46 49 50 52 57 59 60 62 \n",
              " 1  2  3  2  4  2  4  3  3  1  6  3  1  3  5  2  2  1 "
            ]
          },
          "metadata": {}
        }
      ],
      "source": [
        "effectifs <- table(vector_age)\n",
        "effectifs"
      ]
    },
    {
      "cell_type": "code",
      "execution_count": 7,
      "metadata": {
        "colab": {
          "base_uri": "https://localhost:8080/",
          "height": 52
        },
        "id": "1hbuM7FQ5I7E",
        "outputId": "99ca6582-6c0c-4109-f109-385c81e5d2a8"
      },
      "outputs": [
        {
          "output_type": "display_data",
          "data": {
            "text/html": [
              "<style>\n",
              ".dl-inline {width: auto; margin:0; padding: 0}\n",
              ".dl-inline>dt, .dl-inline>dd {float: none; width: auto; display: inline-block}\n",
              ".dl-inline>dt::after {content: \":\\0020\"; padding-right: .5ex}\n",
              ".dl-inline>dt:not(:first-of-type) {padding-left: .5ex}\n",
              "</style><dl class=dl-inline><dt>24</dt><dd>1</dd><dt>26</dt><dd>3</dd><dt>29</dt><dd>6</dd><dt>31</dt><dd>8</dd><dt>33</dt><dd>12</dd><dt>37</dt><dd>14</dd><dt>38</dt><dd>18</dd><dt>41</dt><dd>21</dd><dt>43</dt><dd>24</dd><dt>45</dt><dd>25</dd><dt>46</dt><dd>31</dd><dt>49</dt><dd>34</dd><dt>50</dt><dd>35</dd><dt>52</dt><dd>38</dd><dt>57</dt><dd>43</dd><dt>59</dt><dd>45</dd><dt>60</dt><dd>47</dd><dt>62</dt><dd>48</dd></dl>\n"
            ],
            "text/markdown": "24\n:   126\n:   329\n:   631\n:   833\n:   1237\n:   1438\n:   1841\n:   2143\n:   2445\n:   2546\n:   3149\n:   3450\n:   3552\n:   3857\n:   4359\n:   4560\n:   4762\n:   48\n\n",
            "text/latex": "\\begin{description*}\n\\item[24] 1\n\\item[26] 3\n\\item[29] 6\n\\item[31] 8\n\\item[33] 12\n\\item[37] 14\n\\item[38] 18\n\\item[41] 21\n\\item[43] 24\n\\item[45] 25\n\\item[46] 31\n\\item[49] 34\n\\item[50] 35\n\\item[52] 38\n\\item[57] 43\n\\item[59] 45\n\\item[60] 47\n\\item[62] 48\n\\end{description*}\n",
            "text/plain": [
              "24 26 29 31 33 37 38 41 43 45 46 49 50 52 57 59 60 62 \n",
              " 1  3  6  8 12 14 18 21 24 25 31 34 35 38 43 45 47 48 "
            ]
          },
          "metadata": {}
        }
      ],
      "source": [
        "effectifs_cumulés <- cumsum(effectifs)\n",
        "effectifs_cumulés"
      ]
    },
    {
      "cell_type": "code",
      "execution_count": 9,
      "metadata": {
        "colab": {
          "base_uri": "https://localhost:8080/",
          "height": 139
        },
        "id": "8NpL2QYB5I7F",
        "outputId": "7cddf1c6-6278-4220-e70f-47ee9a04bf9d"
      },
      "outputs": [
        {
          "output_type": "display_data",
          "data": {
            "text/plain": [
              "vector_age\n",
              "       24        26        29        31        33        37        38        41 \n",
              " 2.083333  4.166667  6.250000  4.166667  8.333333  4.166667  8.333333  6.250000 \n",
              "       43        45        46        49        50        52        57        59 \n",
              " 6.250000  2.083333 12.500000  6.250000  2.083333  6.250000 10.416667  4.166667 \n",
              "       60        62 \n",
              " 4.166667  2.083333 "
            ]
          },
          "metadata": {}
        }
      ],
      "source": [
        "frequence<-effectifs*100/48\n",
        "frequence"
      ]
    },
    {
      "cell_type": "code",
      "execution_count": 10,
      "metadata": {
        "colab": {
          "base_uri": "https://localhost:8080/",
          "height": 69
        },
        "id": "VgNDc94X5I7G",
        "outputId": "78bab659-3572-4a81-efe2-594d937a11fb"
      },
      "outputs": [
        {
          "output_type": "display_data",
          "data": {
            "text/html": [
              "<style>\n",
              ".dl-inline {width: auto; margin:0; padding: 0}\n",
              ".dl-inline>dt, .dl-inline>dd {float: none; width: auto; display: inline-block}\n",
              ".dl-inline>dt::after {content: \":\\0020\"; padding-right: .5ex}\n",
              ".dl-inline>dt:not(:first-of-type) {padding-left: .5ex}\n",
              "</style><dl class=dl-inline><dt>24</dt><dd>2.08333333333333</dd><dt>26</dt><dd>6.25</dd><dt>29</dt><dd>12.5</dd><dt>31</dt><dd>16.6666666666667</dd><dt>33</dt><dd>25</dd><dt>37</dt><dd>29.1666666666667</dd><dt>38</dt><dd>37.5</dd><dt>41</dt><dd>43.75</dd><dt>43</dt><dd>50</dd><dt>45</dt><dd>52.0833333333333</dd><dt>46</dt><dd>64.5833333333333</dd><dt>49</dt><dd>70.8333333333333</dd><dt>50</dt><dd>72.9166666666667</dd><dt>52</dt><dd>79.1666666666667</dd><dt>57</dt><dd>89.5833333333333</dd><dt>59</dt><dd>93.75</dd><dt>60</dt><dd>97.9166666666667</dd><dt>62</dt><dd>100</dd></dl>\n"
            ],
            "text/markdown": "24\n:   2.0833333333333326\n:   6.2529\n:   12.531\n:   16.666666666666733\n:   2537\n:   29.166666666666738\n:   37.541\n:   43.7543\n:   5045\n:   52.083333333333346\n:   64.583333333333349\n:   70.833333333333350\n:   72.916666666666752\n:   79.166666666666757\n:   89.583333333333359\n:   93.7560\n:   97.916666666666762\n:   100\n\n",
            "text/latex": "\\begin{description*}\n\\item[24] 2.08333333333333\n\\item[26] 6.25\n\\item[29] 12.5\n\\item[31] 16.6666666666667\n\\item[33] 25\n\\item[37] 29.1666666666667\n\\item[38] 37.5\n\\item[41] 43.75\n\\item[43] 50\n\\item[45] 52.0833333333333\n\\item[46] 64.5833333333333\n\\item[49] 70.8333333333333\n\\item[50] 72.9166666666667\n\\item[52] 79.1666666666667\n\\item[57] 89.5833333333333\n\\item[59] 93.75\n\\item[60] 97.9166666666667\n\\item[62] 100\n\\end{description*}\n",
            "text/plain": [
              "        24         26         29         31         33         37         38 \n",
              "  2.083333   6.250000  12.500000  16.666667  25.000000  29.166667  37.500000 \n",
              "        41         43         45         46         49         50         52 \n",
              " 43.750000  50.000000  52.083333  64.583333  70.833333  72.916667  79.166667 \n",
              "        57         59         60         62 \n",
              " 89.583333  93.750000  97.916667 100.000000 "
            ]
          },
          "metadata": {}
        }
      ],
      "source": [
        "frequences_cum<-cumsum(frequence)\n",
        "frequences_cum"
      ]
    },
    {
      "cell_type": "code",
      "execution_count": 11,
      "metadata": {
        "colab": {
          "base_uri": "https://localhost:8080/",
          "height": 437
        },
        "id": "TOcYT4Oa5I7H",
        "outputId": "bde8bef1-3a35-494a-c158-bacbcf693ff2"
      },
      "outputs": [
        {
          "output_type": "display_data",
          "data": {
            "text/plain": [
              "plot without title"
            ],
            "image/png": "[encoded data removed]"
          },
          "metadata": {
            "image/png": {
              "width": 420,
              "height": 420
            }
          }
        }
      ],
      "source": [
        "barplot(effectifs)"
      ]
    },
    {
      "cell_type": "code",
      "execution_count": 12,
      "metadata": {
        "colab": {
          "base_uri": "https://localhost:8080/",
          "height": 437
        },
        "id": "zLcsGud55I7I",
        "outputId": "43deb46b-c24f-40db-f1ee-eb9db9878fee"
      },
      "outputs": [
        {
          "output_type": "display_data",
          "data": {
            "text/plain": [
              "plot without title"
            ],
            "image/png": "[encoded data removed]"
          },
          "metadata": {
            "image/png": {
              "width": 420,
              "height": 420
            }
          }
        }
      ],
      "source": [
        "barplot(effectifs_cumulés)"
      ]
    },
    {
      "cell_type": "code",
      "execution_count": 13,
      "metadata": {
        "colab": {
          "base_uri": "https://localhost:8080/",
          "height": 34
        },
        "id": "u9Hc-pzs5I7J",
        "outputId": "7a7f2d96-24f8-4239-953d-69d1fd886cf3"
      },
      "outputs": [
        {
          "output_type": "display_data",
          "data": {
            "text/html": [
              "44"
            ],
            "text/markdown": "44",
            "text/latex": "44",
            "text/plain": [
              "[1] 44"
            ]
          },
          "metadata": {}
        }
      ],
      "source": [
        "median(vector_age)"
      ]
    },
    {
      "cell_type": "code",
      "execution_count": 14,
      "metadata": {
        "colab": {
          "base_uri": "https://localhost:8080/",
          "height": 52
        },
        "id": "KRf9xHXM5I7K",
        "outputId": "c335bf19-4827-4cab-91d9-0227d86fb057"
      },
      "outputs": [
        {
          "output_type": "display_data",
          "data": {
            "text/plain": [
              "1st Qu. \n",
              "     36 "
            ]
          },
          "metadata": {}
        }
      ],
      "source": [
        "summary(vector_age)[2]"
      ]
    },
    {
      "cell_type": "code",
      "execution_count": 15,
      "metadata": {
        "colab": {
          "base_uri": "https://localhost:8080/",
          "height": 52
        },
        "id": "6nCol0Sc5I7M",
        "outputId": "edf9ba72-ccac-4f13-9ac5-3314be88ec18"
      },
      "outputs": [
        {
          "output_type": "display_data",
          "data": {
            "text/plain": [
              "3rd Qu. \n",
              "     52 "
            ]
          },
          "metadata": {}
        }
      ],
      "source": [
        "summary(vector_age)[5]"
      ]
    },
    {
      "cell_type": "code",
      "execution_count": 16,
      "metadata": {
        "colab": {
          "base_uri": "https://localhost:8080/",
          "height": 52
        },
        "id": "finGaRRJ5I7N",
        "outputId": "460eb9b5-ae83-4000-cd09-fa7db03818d0"
      },
      "outputs": [
        {
          "output_type": "display_data",
          "data": {
            "text/plain": [
              "  Mean \n",
              "43.625 "
            ]
          },
          "metadata": {}
        }
      ],
      "source": [
        "summary(vector_age)[4]"
      ]
    },
    {
      "cell_type": "code",
      "execution_count": 17,
      "metadata": {
        "colab": {
          "base_uri": "https://localhost:8080/",
          "height": 34
        },
        "id": "1HThDZ9h5I7O",
        "outputId": "9adea610-db96-46dd-aab9-ac4cc4b08067"
      },
      "outputs": [
        {
          "output_type": "display_data",
          "data": {
            "text/html": [
              "112.11170212766"
            ],
            "text/markdown": "112.11170212766",
            "text/latex": "112.11170212766",
            "text/plain": [
              "[1] 112.1117"
            ]
          },
          "metadata": {}
        }
      ],
      "source": [
        "var(vector_age )"
      ]
    },
    {
      "cell_type": "code",
      "execution_count": 18,
      "metadata": {
        "colab": {
          "base_uri": "https://localhost:8080/",
          "height": 34
        },
        "id": "2VMlCuev5I7P",
        "outputId": "43747213-d5a6-42ee-a8a2-a90aacc2c64b"
      },
      "outputs": [
        {
          "output_type": "display_data",
          "data": {
            "text/html": [
              "10.5882813585425"
            ],
            "text/markdown": "10.5882813585425",
            "text/latex": "10.5882813585425",
            "text/plain": [
              "[1] 10.58828"
            ]
          },
          "metadata": {}
        }
      ],
      "source": [
        "sd(vector_age)"
      ]
    },
    {
      "cell_type": "code",
      "execution_count": null,
      "metadata": {
        "id": "S5hgepVw5I7P"
      },
      "outputs": [],
      "source": []
    }
  ],
  "metadata": {
    "kernelspec": {
      "argv": [
        "/usr/bin/R",
        "-e",
        "IRkernel::main()",
        "--args",
        "{connection_file}"
      ],
      "display_name": "R (system-wide)",
      "env": {},
      "language": "r",
      "metadata": {
        "cocalc": {
          "description": "R statistical programming language",
          "priority": 10,
          "url": "https://www.r-project.org/"
        }
      },
      "name": "ir",
      "resource_dir": "/ext/jupyter/kernels/ir"
    },
    "language_info": {
      "codemirror_mode": "r",
      "file_extension": ".r",
      "mimetype": "text/x-r-source",
      "name": "R",
      "pygments_lexer": "r",
      "version": "4.3.1"
    },
    "colab": {
      "provenance": []
    }
  },
  "nbformat": 4,
  "nbformat_minor": 0
}